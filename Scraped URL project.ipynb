{
 "cells": [
  {
   "cell_type": "code",
   "execution_count": 12,
   "id": "b778aa7f-71b5-4800-a9e3-dc3832e7cb8f",
   "metadata": {},
   "outputs": [],
   "source": [
    "import pandas as pd\n",
    "import numpy as np\n",
    "import pandas as pd\n",
    "from selenium import webdriver\n",
    "from selenium.webdriver.common.by import By # used to import different ways to access data in the XML or HTML file\n",
    "from selenium.webdriver.chrome.service import Service # no longer need to download a driver file, use service\n",
    "from selenium.webdriver.support.ui import WebDriverWait\n",
    "from selenium.webdriver.support import expected_conditions as EC\n",
    "from selenium.common.exceptions import TimeoutException\n",
    "from selenium.common.exceptions import NoSuchElementException\n",
    "\n",
    "from webdriver_manager.chrome import ChromeDriverManager # used to manage the Chrome driver to emulate a Chrome web browser\n",
    "\n",
    "import time\n",
    "import random"
   ]
  },
  {
   "cell_type": "code",
   "execution_count": 24,
   "id": "585d8260-ed62-405c-a8f7-4ec7449a8f93",
   "metadata": {},
   "outputs": [
    {
     "name": "stdout",
     "output_type": "stream",
     "text": [
      "                              Title  \\\n",
      "0                     Total Offense   \n",
      "1                   Rushing Offense   \n",
      "2                   Passing Offense   \n",
      "3           Team Passing Efficiency   \n",
      "4                   Scoring Offense   \n",
      "5                     Total Defense   \n",
      "6                   Rushing Defense   \n",
      "7             Passing Yards Allowed   \n",
      "8   Team Passing Efficiency Defense   \n",
      "9                   Scoring Defense   \n",
      "10                  Turnover Margin   \n",
      "11          3rd Down Conversion Pct   \n",
      "12          4th Down Conversion Pct   \n",
      "13  3rd Down Conversion Pct Defense   \n",
      "14  4th Down Conversion Pct Defense   \n",
      "15                 Red Zone Offense   \n",
      "16                 Red Zone Defense   \n",
      "17                      Net Punting   \n",
      "18                     Punt Returns   \n",
      "19                  Kickoff Returns   \n",
      "20              First Downs Offense   \n",
      "21              First Downs Defense   \n",
      "22        Fewest Penalties Per Game   \n",
      "23    Fewest Penalty Yards Per Game   \n",
      "24               Time of Possession   \n",
      "\n",
      "                                                  URL  \n",
      "0   https://stats.ncaa.org/rankings/national_ranki...  \n",
      "1   https://stats.ncaa.org/rankings/national_ranki...  \n",
      "2   https://stats.ncaa.org/rankings/national_ranki...  \n",
      "3   https://stats.ncaa.org/rankings/national_ranki...  \n",
      "4   https://stats.ncaa.org/rankings/national_ranki...  \n",
      "5   https://stats.ncaa.org/rankings/national_ranki...  \n",
      "6   https://stats.ncaa.org/rankings/national_ranki...  \n",
      "7   https://stats.ncaa.org/rankings/national_ranki...  \n",
      "8   https://stats.ncaa.org/rankings/national_ranki...  \n",
      "9   https://stats.ncaa.org/rankings/national_ranki...  \n",
      "10  https://stats.ncaa.org/rankings/national_ranki...  \n",
      "11  https://stats.ncaa.org/rankings/national_ranki...  \n",
      "12  https://stats.ncaa.org/rankings/national_ranki...  \n",
      "13  https://stats.ncaa.org/rankings/national_ranki...  \n",
      "14  https://stats.ncaa.org/rankings/national_ranki...  \n",
      "15  https://stats.ncaa.org/rankings/national_ranki...  \n",
      "16  https://stats.ncaa.org/rankings/national_ranki...  \n",
      "17  https://stats.ncaa.org/rankings/national_ranki...  \n",
      "18  https://stats.ncaa.org/rankings/national_ranki...  \n",
      "19  https://stats.ncaa.org/rankings/national_ranki...  \n",
      "20  https://stats.ncaa.org/rankings/national_ranki...  \n",
      "21  https://stats.ncaa.org/rankings/national_ranki...  \n",
      "22  https://stats.ncaa.org/rankings/national_ranki...  \n",
      "23  https://stats.ncaa.org/rankings/national_ranki...  \n",
      "24  https://stats.ncaa.org/rankings/national_ranki...  \n"
     ]
    }
   ],
   "source": [
    "\n",
    "import pandas as pd\n",
    "from selenium import webdriver\n",
    "from selenium.webdriver.common.by import By\n",
    "from selenium.webdriver.chrome.options import Options\n",
    "from selenium.webdriver.support.ui import WebDriverWait\n",
    "from selenium.webdriver.support import expected_conditions as EC\n",
    "from selenium.common.exceptions import TimeoutException\n",
    "from urllib.parse import urljoin\n",
    "\n",
    "def scrape_metric_links(page_url, titles,\n",
    "                        headless: bool = True,\n",
    "                        timeout: int = 10) -> pd.DataFrame:\n",
    "    \"\"\"\n",
    "    For each title in `titles`, find the link on the page by exact\n",
    "    link text and return a DataFrame with columns ['Title','URL'].\n",
    "    \"\"\"\n",
    "    # --- setup driver ---\n",
    "    opts = Options()\n",
    "    if headless:\n",
    "        opts.add_argument(\"--headless\")\n",
    "    driver = webdriver.Chrome(options=opts)\n",
    "    driver.get(page_url)\n",
    "\n",
    "    wait = WebDriverWait(driver, timeout)\n",
    "    # wait until the main table (or nav) is present\n",
    "    wait.until(EC.presence_of_element_located((By.TAG_NAME, \"table\")))\n",
    "\n",
    "    records = []\n",
    "    for title in titles:\n",
    "        try:\n",
    "            link = wait.until(\n",
    "                EC.presence_of_element_located((By.LINK_TEXT, title))\n",
    "            )\n",
    "            raw_href = link.get_attribute(\"href\")\n",
    "            full_href = urljoin(page_url, raw_href)\n",
    "        except TimeoutException:\n",
    "            full_href = None\n",
    "        records.append({\"Title\": title, \"URL\": full_href})\n",
    "\n",
    "    driver.quit()\n",
    "    return pd.DataFrame(records)\n",
    "\n",
    "\n",
    "if __name__ == \"__main__\":\n",
    "    PAGE = \"https://stats.ncaa.org/rankings?sport_code=MFB&division=11\"\n",
    "    TITLES = [\n",
    "        \"Total Offense\",\n",
    "        \"Rushing Offense\",\n",
    "        \"Passing Offense\",\n",
    "        \"Team Passing Efficiency\",\n",
    "        \"Scoring Offense\",\n",
    "        \"Total Defense\",\n",
    "        \"Rushing Defense\",\n",
    "        \"Passing Yards Allowed\",\n",
    "        \"Team Passing Efficiency Defense\",\n",
    "        \"Scoring Defense\",\n",
    "        \"Turnover Margin\",\n",
    "        \"3rd Down Conversion Pct\",\n",
    "        \"4th Down Conversion Pct\",\n",
    "        \"3rd Down Conversion Pct Defense\",\n",
    "        \"4th Down Conversion Pct Defense\",\n",
    "        \"Red Zone Offense\",\n",
    "        \"Red Zone Defense\",\n",
    "        \"Net Punting\",\n",
    "        \"Punt Returns\",\n",
    "        \"Kickoff Returns\",\n",
    "        \"First Downs Offense\",\n",
    "        \"First Downs Defense\",\n",
    "        \"Fewest Penalties Per Game\",\n",
    "        \"Fewest Penalty Yards Per Game\",\n",
    "        \"Time of Possession\",\n",
    "    ]\n",
    "\n",
    "    df = scrape_metric_links(PAGE, TITLES, headless=False)"
   ]
  },
  {
   "cell_type": "code",
   "execution_count": 32,
   "id": "72a4af98-cb3d-41d2-9733-1096b2b95901",
   "metadata": {},
   "outputs": [],
   "source": [
    "df.to_csv(\"ncaa_metric_links.csv\", index=False)"
   ]
  },
  {
   "cell_type": "code",
   "execution_count": 50,
   "id": "1e2fba92-f3a2-4d72-942b-877466c66769",
   "metadata": {},
   "outputs": [
    {
     "name": "stdout",
     "output_type": "stream",
     "text": [
      "Scraping 'Total Offense' → https://stats.ncaa.org/rankings/national_ranking?academic_year=2025.0&division=11.0&ranking_period=84.0&sport_code=MFB&stat_seq=21.0\n"
     ]
    },
    {
     "name": "stderr",
     "output_type": "stream",
     "text": [
      "C:\\Users\\chait\\AppData\\Local\\Temp\\ipykernel_29468\\576036133.py:30: FutureWarning: Passing literal html to 'read_html' is deprecated and will be removed in a future version. To read from a literal string, wrap it in a 'StringIO' object.\n",
      "  tables = pd.read_html(resp.text)\n"
     ]
    },
    {
     "name": "stdout",
     "output_type": "stream",
     "text": [
      "  Retrieved 135 rows for 'Total Offense'\n",
      "Scraping 'Rushing Offense' → https://stats.ncaa.org/rankings/national_ranking?academic_year=2025.0&division=11.0&ranking_period=84.0&sport_code=MFB&stat_seq=23.0\n"
     ]
    },
    {
     "name": "stderr",
     "output_type": "stream",
     "text": [
      "C:\\Users\\chait\\AppData\\Local\\Temp\\ipykernel_29468\\576036133.py:30: FutureWarning: Passing literal html to 'read_html' is deprecated and will be removed in a future version. To read from a literal string, wrap it in a 'StringIO' object.\n",
      "  tables = pd.read_html(resp.text)\n"
     ]
    },
    {
     "name": "stdout",
     "output_type": "stream",
     "text": [
      "  Retrieved 135 rows for 'Rushing Offense'\n",
      "Scraping 'Passing Offense' → https://stats.ncaa.org/rankings/national_ranking?academic_year=2025.0&division=11.0&ranking_period=84.0&sport_code=MFB&stat_seq=25.0\n"
     ]
    },
    {
     "name": "stderr",
     "output_type": "stream",
     "text": [
      "C:\\Users\\chait\\AppData\\Local\\Temp\\ipykernel_29468\\576036133.py:30: FutureWarning: Passing literal html to 'read_html' is deprecated and will be removed in a future version. To read from a literal string, wrap it in a 'StringIO' object.\n",
      "  tables = pd.read_html(resp.text)\n"
     ]
    },
    {
     "name": "stdout",
     "output_type": "stream",
     "text": [
      "  Retrieved 135 rows for 'Passing Offense'\n",
      "Scraping 'Team Passing Efficiency' → https://stats.ncaa.org/rankings/national_ranking?academic_year=2025.0&division=11.0&ranking_period=84.0&sport_code=MFB&stat_seq=465.0\n"
     ]
    },
    {
     "name": "stderr",
     "output_type": "stream",
     "text": [
      "C:\\Users\\chait\\AppData\\Local\\Temp\\ipykernel_29468\\576036133.py:30: FutureWarning: Passing literal html to 'read_html' is deprecated and will be removed in a future version. To read from a literal string, wrap it in a 'StringIO' object.\n",
      "  tables = pd.read_html(resp.text)\n"
     ]
    },
    {
     "name": "stdout",
     "output_type": "stream",
     "text": [
      "  Retrieved 135 rows for 'Team Passing Efficiency'\n",
      "Scraping 'Scoring Offense' → https://stats.ncaa.org/rankings/national_ranking?academic_year=2025.0&division=11.0&ranking_period=84.0&sport_code=MFB&stat_seq=27.0\n"
     ]
    },
    {
     "name": "stderr",
     "output_type": "stream",
     "text": [
      "C:\\Users\\chait\\AppData\\Local\\Temp\\ipykernel_29468\\576036133.py:30: FutureWarning: Passing literal html to 'read_html' is deprecated and will be removed in a future version. To read from a literal string, wrap it in a 'StringIO' object.\n",
      "  tables = pd.read_html(resp.text)\n"
     ]
    },
    {
     "name": "stdout",
     "output_type": "stream",
     "text": [
      "  Retrieved 135 rows for 'Scoring Offense'\n",
      "Scraping 'Total Defense' → https://stats.ncaa.org/rankings/national_ranking?academic_year=2025.0&division=11.0&ranking_period=84.0&sport_code=MFB&stat_seq=22.0\n"
     ]
    },
    {
     "name": "stderr",
     "output_type": "stream",
     "text": [
      "C:\\Users\\chait\\AppData\\Local\\Temp\\ipykernel_29468\\576036133.py:30: FutureWarning: Passing literal html to 'read_html' is deprecated and will be removed in a future version. To read from a literal string, wrap it in a 'StringIO' object.\n",
      "  tables = pd.read_html(resp.text)\n"
     ]
    },
    {
     "name": "stdout",
     "output_type": "stream",
     "text": [
      "  Retrieved 135 rows for 'Total Defense'\n",
      "Scraping 'Rushing Defense' → https://stats.ncaa.org/rankings/national_ranking?academic_year=2025.0&division=11.0&ranking_period=84.0&sport_code=MFB&stat_seq=24.0\n"
     ]
    },
    {
     "name": "stderr",
     "output_type": "stream",
     "text": [
      "C:\\Users\\chait\\AppData\\Local\\Temp\\ipykernel_29468\\576036133.py:30: FutureWarning: Passing literal html to 'read_html' is deprecated and will be removed in a future version. To read from a literal string, wrap it in a 'StringIO' object.\n",
      "  tables = pd.read_html(resp.text)\n"
     ]
    },
    {
     "name": "stdout",
     "output_type": "stream",
     "text": [
      "  Retrieved 135 rows for 'Rushing Defense'\n",
      "Scraping 'Passing Yards Allowed' → https://stats.ncaa.org/rankings/national_ranking?academic_year=2025.0&division=11.0&ranking_period=84.0&sport_code=MFB&stat_seq=695.0\n"
     ]
    },
    {
     "name": "stderr",
     "output_type": "stream",
     "text": [
      "C:\\Users\\chait\\AppData\\Local\\Temp\\ipykernel_29468\\576036133.py:30: FutureWarning: Passing literal html to 'read_html' is deprecated and will be removed in a future version. To read from a literal string, wrap it in a 'StringIO' object.\n",
      "  tables = pd.read_html(resp.text)\n"
     ]
    },
    {
     "name": "stdout",
     "output_type": "stream",
     "text": [
      "  Retrieved 135 rows for 'Passing Yards Allowed'\n",
      "Scraping 'Team Passing Efficiency Defense' → https://stats.ncaa.org/rankings/national_ranking?academic_year=2025.0&division=11.0&ranking_period=84.0&sport_code=MFB&stat_seq=40.0\n"
     ]
    },
    {
     "name": "stderr",
     "output_type": "stream",
     "text": [
      "C:\\Users\\chait\\AppData\\Local\\Temp\\ipykernel_29468\\576036133.py:30: FutureWarning: Passing literal html to 'read_html' is deprecated and will be removed in a future version. To read from a literal string, wrap it in a 'StringIO' object.\n",
      "  tables = pd.read_html(resp.text)\n"
     ]
    },
    {
     "name": "stdout",
     "output_type": "stream",
     "text": [
      "  Retrieved 135 rows for 'Team Passing Efficiency Defense'\n",
      "Scraping 'Scoring Defense' → https://stats.ncaa.org/rankings/national_ranking?academic_year=2025.0&division=11.0&ranking_period=84.0&sport_code=MFB&stat_seq=28.0\n"
     ]
    },
    {
     "name": "stderr",
     "output_type": "stream",
     "text": [
      "C:\\Users\\chait\\AppData\\Local\\Temp\\ipykernel_29468\\576036133.py:30: FutureWarning: Passing literal html to 'read_html' is deprecated and will be removed in a future version. To read from a literal string, wrap it in a 'StringIO' object.\n",
      "  tables = pd.read_html(resp.text)\n"
     ]
    },
    {
     "name": "stdout",
     "output_type": "stream",
     "text": [
      "  Retrieved 135 rows for 'Scoring Defense'\n",
      "Scraping 'Turnover Margin' → https://stats.ncaa.org/rankings/national_ranking?academic_year=2025.0&division=11.0&ranking_period=84.0&sport_code=MFB&stat_seq=29.0\n"
     ]
    },
    {
     "name": "stderr",
     "output_type": "stream",
     "text": [
      "C:\\Users\\chait\\AppData\\Local\\Temp\\ipykernel_29468\\576036133.py:30: FutureWarning: Passing literal html to 'read_html' is deprecated and will be removed in a future version. To read from a literal string, wrap it in a 'StringIO' object.\n",
      "  tables = pd.read_html(resp.text)\n"
     ]
    },
    {
     "name": "stdout",
     "output_type": "stream",
     "text": [
      "  Retrieved 135 rows for 'Turnover Margin'\n",
      "Scraping '3rd Down Conversion Pct' → https://stats.ncaa.org/rankings/national_ranking?academic_year=2025.0&division=11.0&ranking_period=84.0&sport_code=MFB&stat_seq=699.0\n"
     ]
    },
    {
     "name": "stderr",
     "output_type": "stream",
     "text": [
      "C:\\Users\\chait\\AppData\\Local\\Temp\\ipykernel_29468\\576036133.py:30: FutureWarning: Passing literal html to 'read_html' is deprecated and will be removed in a future version. To read from a literal string, wrap it in a 'StringIO' object.\n",
      "  tables = pd.read_html(resp.text)\n"
     ]
    },
    {
     "name": "stdout",
     "output_type": "stream",
     "text": [
      "  Retrieved 135 rows for '3rd Down Conversion Pct'\n",
      "Scraping '4th Down Conversion Pct' → https://stats.ncaa.org/rankings/national_ranking?academic_year=2025.0&division=11.0&ranking_period=84.0&sport_code=MFB&stat_seq=700.0\n"
     ]
    },
    {
     "name": "stderr",
     "output_type": "stream",
     "text": [
      "C:\\Users\\chait\\AppData\\Local\\Temp\\ipykernel_29468\\576036133.py:30: FutureWarning: Passing literal html to 'read_html' is deprecated and will be removed in a future version. To read from a literal string, wrap it in a 'StringIO' object.\n",
      "  tables = pd.read_html(resp.text)\n"
     ]
    },
    {
     "name": "stdout",
     "output_type": "stream",
     "text": [
      "  Retrieved 135 rows for '4th Down Conversion Pct'\n",
      "Scraping '3rd Down Conversion Pct Defense' → https://stats.ncaa.org/rankings/national_ranking?academic_year=2025.0&division=11.0&ranking_period=84.0&sport_code=MFB&stat_seq=701.0\n"
     ]
    },
    {
     "name": "stderr",
     "output_type": "stream",
     "text": [
      "C:\\Users\\chait\\AppData\\Local\\Temp\\ipykernel_29468\\576036133.py:30: FutureWarning: Passing literal html to 'read_html' is deprecated and will be removed in a future version. To read from a literal string, wrap it in a 'StringIO' object.\n",
      "  tables = pd.read_html(resp.text)\n"
     ]
    },
    {
     "name": "stdout",
     "output_type": "stream",
     "text": [
      "  Retrieved 135 rows for '3rd Down Conversion Pct Defense'\n",
      "Scraping '4th Down Conversion Pct Defense' → https://stats.ncaa.org/rankings/national_ranking?academic_year=2025.0&division=11.0&ranking_period=84.0&sport_code=MFB&stat_seq=702.0\n"
     ]
    },
    {
     "name": "stderr",
     "output_type": "stream",
     "text": [
      "C:\\Users\\chait\\AppData\\Local\\Temp\\ipykernel_29468\\576036133.py:30: FutureWarning: Passing literal html to 'read_html' is deprecated and will be removed in a future version. To read from a literal string, wrap it in a 'StringIO' object.\n",
      "  tables = pd.read_html(resp.text)\n"
     ]
    },
    {
     "name": "stdout",
     "output_type": "stream",
     "text": [
      "  Retrieved 135 rows for '4th Down Conversion Pct Defense'\n",
      "Scraping 'Red Zone Offense' → https://stats.ncaa.org/rankings/national_ranking?academic_year=2025.0&division=11.0&ranking_period=84.0&sport_code=MFB&stat_seq=703.0\n"
     ]
    },
    {
     "name": "stderr",
     "output_type": "stream",
     "text": [
      "C:\\Users\\chait\\AppData\\Local\\Temp\\ipykernel_29468\\576036133.py:30: FutureWarning: Passing literal html to 'read_html' is deprecated and will be removed in a future version. To read from a literal string, wrap it in a 'StringIO' object.\n",
      "  tables = pd.read_html(resp.text)\n"
     ]
    },
    {
     "name": "stdout",
     "output_type": "stream",
     "text": [
      "  Retrieved 135 rows for 'Red Zone Offense'\n",
      "Scraping 'Red Zone Defense' → https://stats.ncaa.org/rankings/national_ranking?academic_year=2025.0&division=11.0&ranking_period=84.0&sport_code=MFB&stat_seq=704.0\n"
     ]
    },
    {
     "name": "stderr",
     "output_type": "stream",
     "text": [
      "C:\\Users\\chait\\AppData\\Local\\Temp\\ipykernel_29468\\576036133.py:30: FutureWarning: Passing literal html to 'read_html' is deprecated and will be removed in a future version. To read from a literal string, wrap it in a 'StringIO' object.\n",
      "  tables = pd.read_html(resp.text)\n"
     ]
    },
    {
     "name": "stdout",
     "output_type": "stream",
     "text": [
      "  Retrieved 135 rows for 'Red Zone Defense'\n",
      "Scraping 'Net Punting' → https://stats.ncaa.org/rankings/national_ranking?academic_year=2025.0&division=11.0&ranking_period=84.0&sport_code=MFB&stat_seq=98.0\n"
     ]
    },
    {
     "name": "stderr",
     "output_type": "stream",
     "text": [
      "C:\\Users\\chait\\AppData\\Local\\Temp\\ipykernel_29468\\576036133.py:30: FutureWarning: Passing literal html to 'read_html' is deprecated and will be removed in a future version. To read from a literal string, wrap it in a 'StringIO' object.\n",
      "  tables = pd.read_html(resp.text)\n"
     ]
    },
    {
     "name": "stdout",
     "output_type": "stream",
     "text": [
      "  Retrieved 135 rows for 'Net Punting'\n",
      "Scraping 'Punt Returns' → https://stats.ncaa.org/rankings/national_ranking?academic_year=2025.0&division=11.0&ranking_period=84.0&sport_code=MFB&stat_seq=97.0\n"
     ]
    },
    {
     "name": "stderr",
     "output_type": "stream",
     "text": [
      "C:\\Users\\chait\\AppData\\Local\\Temp\\ipykernel_29468\\576036133.py:30: FutureWarning: Passing literal html to 'read_html' is deprecated and will be removed in a future version. To read from a literal string, wrap it in a 'StringIO' object.\n",
      "  tables = pd.read_html(resp.text)\n"
     ]
    },
    {
     "name": "stdout",
     "output_type": "stream",
     "text": [
      "  Retrieved 135 rows for 'Punt Returns'\n",
      "Scraping 'Kickoff Returns' → https://stats.ncaa.org/rankings/national_ranking?academic_year=2025.0&division=11.0&ranking_period=84.0&sport_code=MFB&stat_seq=96.0\n"
     ]
    },
    {
     "name": "stderr",
     "output_type": "stream",
     "text": [
      "C:\\Users\\chait\\AppData\\Local\\Temp\\ipykernel_29468\\576036133.py:30: FutureWarning: Passing literal html to 'read_html' is deprecated and will be removed in a future version. To read from a literal string, wrap it in a 'StringIO' object.\n",
      "  tables = pd.read_html(resp.text)\n"
     ]
    },
    {
     "name": "stdout",
     "output_type": "stream",
     "text": [
      "  Retrieved 135 rows for 'Kickoff Returns'\n",
      "Scraping 'First Downs Offense' → https://stats.ncaa.org/rankings/national_ranking?academic_year=2025.0&division=11.0&ranking_period=84.0&sport_code=MFB&stat_seq=693.0\n"
     ]
    },
    {
     "name": "stderr",
     "output_type": "stream",
     "text": [
      "C:\\Users\\chait\\AppData\\Local\\Temp\\ipykernel_29468\\576036133.py:30: FutureWarning: Passing literal html to 'read_html' is deprecated and will be removed in a future version. To read from a literal string, wrap it in a 'StringIO' object.\n",
      "  tables = pd.read_html(resp.text)\n"
     ]
    },
    {
     "name": "stdout",
     "output_type": "stream",
     "text": [
      "  Retrieved 135 rows for 'First Downs Offense'\n",
      "Scraping 'First Downs Defense' → https://stats.ncaa.org/rankings/national_ranking?academic_year=2025.0&division=11.0&ranking_period=84.0&sport_code=MFB&stat_seq=694.0\n"
     ]
    },
    {
     "name": "stderr",
     "output_type": "stream",
     "text": [
      "C:\\Users\\chait\\AppData\\Local\\Temp\\ipykernel_29468\\576036133.py:30: FutureWarning: Passing literal html to 'read_html' is deprecated and will be removed in a future version. To read from a literal string, wrap it in a 'StringIO' object.\n",
      "  tables = pd.read_html(resp.text)\n"
     ]
    },
    {
     "name": "stdout",
     "output_type": "stream",
     "text": [
      "  Retrieved 135 rows for 'First Downs Defense'\n",
      "Scraping 'Fewest Penalties Per Game' → https://stats.ncaa.org/rankings/national_ranking?academic_year=2025.0&division=11.0&ranking_period=84.0&sport_code=MFB&stat_seq=697.0\n"
     ]
    },
    {
     "name": "stderr",
     "output_type": "stream",
     "text": [
      "C:\\Users\\chait\\AppData\\Local\\Temp\\ipykernel_29468\\576036133.py:30: FutureWarning: Passing literal html to 'read_html' is deprecated and will be removed in a future version. To read from a literal string, wrap it in a 'StringIO' object.\n",
      "  tables = pd.read_html(resp.text)\n"
     ]
    },
    {
     "name": "stdout",
     "output_type": "stream",
     "text": [
      "  Retrieved 135 rows for 'Fewest Penalties Per Game'\n",
      "Scraping 'Fewest Penalty Yards Per Game' → https://stats.ncaa.org/rankings/national_ranking?academic_year=2025.0&division=11.0&ranking_period=84.0&sport_code=MFB&stat_seq=698.0\n"
     ]
    },
    {
     "name": "stderr",
     "output_type": "stream",
     "text": [
      "C:\\Users\\chait\\AppData\\Local\\Temp\\ipykernel_29468\\576036133.py:30: FutureWarning: Passing literal html to 'read_html' is deprecated and will be removed in a future version. To read from a literal string, wrap it in a 'StringIO' object.\n",
      "  tables = pd.read_html(resp.text)\n"
     ]
    },
    {
     "name": "stdout",
     "output_type": "stream",
     "text": [
      "  Retrieved 135 rows for 'Fewest Penalty Yards Per Game'\n",
      "Scraping 'Time of Possession' → https://stats.ncaa.org/rankings/national_ranking?academic_year=2025.0&division=11.0&ranking_period=84.0&sport_code=MFB&stat_seq=705.0\n"
     ]
    },
    {
     "name": "stderr",
     "output_type": "stream",
     "text": [
      "C:\\Users\\chait\\AppData\\Local\\Temp\\ipykernel_29468\\576036133.py:30: FutureWarning: Passing literal html to 'read_html' is deprecated and will be removed in a future version. To read from a literal string, wrap it in a 'StringIO' object.\n",
      "  tables = pd.read_html(resp.text)\n"
     ]
    },
    {
     "name": "stdout",
     "output_type": "stream",
     "text": [
      "  Retrieved 135 rows for 'Time of Possession'\n",
      "\n",
      "Done! 3375 rows saved to ncaa_all_metrics.csv\n"
     ]
    }
   ],
   "source": [
    "import time\n",
    "import random\n",
    "import requests\n",
    "import pandas as pd\n",
    "\n",
    "INPUT_CSV  = \"ncaa_metric_links.csv\"\n",
    "OUTPUT_CSV = \"ncaa_all_metrics.csv\"\n",
    "\n",
    "# Load your list of metric titles and URLs\n",
    "links_df = pd.read_csv(INPUT_CSV)\n",
    "\n",
    "session = requests.Session()\n",
    "session.headers.update({\"User-Agent\": \"Mozilla/5.0\"})\n",
    "\n",
    "all_dfs = []\n",
    "\n",
    "for _, row in links_df.iterrows():\n",
    "    title = row[\"Title\"]\n",
    "    url   = row[\"URL\"]\n",
    "\n",
    "    if pd.isna(url):\n",
    "        print(f\"Skipping {title!r}: no URL\")\n",
    "        continue\n",
    "\n",
    "    print(f\"Scraping {title!r} → {url}\")\n",
    "    resp = session.get(url, timeout=10)\n",
    "    resp.raise_for_status()\n",
    "\n",
    "    # pandas will find all <table> tags—take the first one\n",
    "    tables = pd.read_html(resp.text)\n",
    "    if not tables:\n",
    "        print(f\"No tables found for {title!r}, skipping.\")\n",
    "        continue\n",
    "\n",
    "    df = tables[0]\n",
    "    df.insert(0, \"Metric\", title)\n",
    "    all_dfs.append(df)\n",
    "    print(f\"  Retrieved {len(df)} rows for {title!r}\")\n",
    "\n",
    "    # optional pause to be polite\n",
    "    time.sleep(random.uniform(1, 2))\n",
    "\n",
    "if all_dfs:\n",
    "    combined = pd.concat(all_dfs, ignore_index=True)\n",
    "    combined.to_csv(OUTPUT_CSV, index=False)\n",
    "    print(f\"\\nDone! {len(combined)} rows saved to {OUTPUT_CSV}\")\n",
    "else:\n",
    "    print(\"No data collected.\")\n"
   ]
  },
  {
   "cell_type": "code",
   "execution_count": 52,
   "id": "407610c7-1978-4a52-92f4-37c43c7a5d47",
   "metadata": {},
   "outputs": [
    {
     "data": {
      "text/html": [
       "<div>\n",
       "<style scoped>\n",
       "    .dataframe tbody tr th:only-of-type {\n",
       "        vertical-align: middle;\n",
       "    }\n",
       "\n",
       "    .dataframe tbody tr th {\n",
       "        vertical-align: top;\n",
       "    }\n",
       "\n",
       "    .dataframe thead th {\n",
       "        text-align: right;\n",
       "    }\n",
       "</style>\n",
       "<table border=\"1\" class=\"dataframe\">\n",
       "  <thead>\n",
       "    <tr style=\"text-align: right;\">\n",
       "      <th></th>\n",
       "      <th>Metric</th>\n",
       "      <th>Rank</th>\n",
       "      <th>Team</th>\n",
       "      <th>G</th>\n",
       "      <th>W-L</th>\n",
       "      <th>Plays</th>\n",
       "      <th>YDS</th>\n",
       "      <th>Yds/Play</th>\n",
       "      <th>Off TDs</th>\n",
       "      <th>YPG</th>\n",
       "      <th>...</th>\n",
       "      <th>FD</th>\n",
       "      <th>Opp Rush 1st</th>\n",
       "      <th>Opp Pass 1st</th>\n",
       "      <th>Opp Pen 1st</th>\n",
       "      <th>Opp FD</th>\n",
       "      <th>Penalties</th>\n",
       "      <th>PenPerGame</th>\n",
       "      <th>PYards</th>\n",
       "      <th>TOP</th>\n",
       "      <th>AvgTOP</th>\n",
       "    </tr>\n",
       "  </thead>\n",
       "  <tbody>\n",
       "    <tr>\n",
       "      <th>0</th>\n",
       "      <td>Total Offense</td>\n",
       "      <td>1</td>\n",
       "      <td>Miami (FL) (ACC)</td>\n",
       "      <td>13</td>\n",
       "      <td>10-3</td>\n",
       "      <td>922</td>\n",
       "      <td>6983</td>\n",
       "      <td>7.57</td>\n",
       "      <td>71</td>\n",
       "      <td>537.2</td>\n",
       "      <td>...</td>\n",
       "      <td>NaN</td>\n",
       "      <td>NaN</td>\n",
       "      <td>NaN</td>\n",
       "      <td>NaN</td>\n",
       "      <td>NaN</td>\n",
       "      <td>NaN</td>\n",
       "      <td>NaN</td>\n",
       "      <td>NaN</td>\n",
       "      <td>NaN</td>\n",
       "      <td>NaN</td>\n",
       "    </tr>\n",
       "    <tr>\n",
       "      <th>1</th>\n",
       "      <td>Total Offense</td>\n",
       "      <td>2</td>\n",
       "      <td>Ole Miss (SEC)</td>\n",
       "      <td>13</td>\n",
       "      <td>10-3</td>\n",
       "      <td>934</td>\n",
       "      <td>6845</td>\n",
       "      <td>7.33</td>\n",
       "      <td>60</td>\n",
       "      <td>526.5</td>\n",
       "      <td>...</td>\n",
       "      <td>NaN</td>\n",
       "      <td>NaN</td>\n",
       "      <td>NaN</td>\n",
       "      <td>NaN</td>\n",
       "      <td>NaN</td>\n",
       "      <td>NaN</td>\n",
       "      <td>NaN</td>\n",
       "      <td>NaN</td>\n",
       "      <td>NaN</td>\n",
       "      <td>NaN</td>\n",
       "    </tr>\n",
       "    <tr>\n",
       "      <th>2</th>\n",
       "      <td>Total Offense</td>\n",
       "      <td>3</td>\n",
       "      <td>North Texas (The American)</td>\n",
       "      <td>13</td>\n",
       "      <td>6-7</td>\n",
       "      <td>946</td>\n",
       "      <td>6355</td>\n",
       "      <td>6.72</td>\n",
       "      <td>57</td>\n",
       "      <td>488.8</td>\n",
       "      <td>...</td>\n",
       "      <td>NaN</td>\n",
       "      <td>NaN</td>\n",
       "      <td>NaN</td>\n",
       "      <td>NaN</td>\n",
       "      <td>NaN</td>\n",
       "      <td>NaN</td>\n",
       "      <td>NaN</td>\n",
       "      <td>NaN</td>\n",
       "      <td>NaN</td>\n",
       "      <td>NaN</td>\n",
       "    </tr>\n",
       "    <tr>\n",
       "      <th>3</th>\n",
       "      <td>Total Offense</td>\n",
       "      <td>4</td>\n",
       "      <td>New Mexico (Mountain West)</td>\n",
       "      <td>12</td>\n",
       "      <td>5-7</td>\n",
       "      <td>846</td>\n",
       "      <td>5811</td>\n",
       "      <td>6.87</td>\n",
       "      <td>49</td>\n",
       "      <td>484.3</td>\n",
       "      <td>...</td>\n",
       "      <td>NaN</td>\n",
       "      <td>NaN</td>\n",
       "      <td>NaN</td>\n",
       "      <td>NaN</td>\n",
       "      <td>NaN</td>\n",
       "      <td>NaN</td>\n",
       "      <td>NaN</td>\n",
       "      <td>NaN</td>\n",
       "      <td>NaN</td>\n",
       "      <td>NaN</td>\n",
       "    </tr>\n",
       "    <tr>\n",
       "      <th>4</th>\n",
       "      <td>Total Offense</td>\n",
       "      <td>5</td>\n",
       "      <td>Texas St. (Sun Belt)</td>\n",
       "      <td>13</td>\n",
       "      <td>8-5</td>\n",
       "      <td>957</td>\n",
       "      <td>6200</td>\n",
       "      <td>6.48</td>\n",
       "      <td>58</td>\n",
       "      <td>476.9</td>\n",
       "      <td>...</td>\n",
       "      <td>NaN</td>\n",
       "      <td>NaN</td>\n",
       "      <td>NaN</td>\n",
       "      <td>NaN</td>\n",
       "      <td>NaN</td>\n",
       "      <td>NaN</td>\n",
       "      <td>NaN</td>\n",
       "      <td>NaN</td>\n",
       "      <td>NaN</td>\n",
       "      <td>NaN</td>\n",
       "    </tr>\n",
       "    <tr>\n",
       "      <th>...</th>\n",
       "      <td>...</td>\n",
       "      <td>...</td>\n",
       "      <td>...</td>\n",
       "      <td>...</td>\n",
       "      <td>...</td>\n",
       "      <td>...</td>\n",
       "      <td>...</td>\n",
       "      <td>...</td>\n",
       "      <td>...</td>\n",
       "      <td>...</td>\n",
       "      <td>...</td>\n",
       "      <td>...</td>\n",
       "      <td>...</td>\n",
       "      <td>...</td>\n",
       "      <td>...</td>\n",
       "      <td>...</td>\n",
       "      <td>...</td>\n",
       "      <td>...</td>\n",
       "      <td>...</td>\n",
       "      <td>...</td>\n",
       "      <td>...</td>\n",
       "    </tr>\n",
       "    <tr>\n",
       "      <th>3370</th>\n",
       "      <td>Time of Possession</td>\n",
       "      <td>131</td>\n",
       "      <td>Mississippi St. (SEC)</td>\n",
       "      <td>12</td>\n",
       "      <td>2-10</td>\n",
       "      <td>NaN</td>\n",
       "      <td>NaN</td>\n",
       "      <td>NaN</td>\n",
       "      <td>NaN</td>\n",
       "      <td>NaN</td>\n",
       "      <td>...</td>\n",
       "      <td>NaN</td>\n",
       "      <td>NaN</td>\n",
       "      <td>NaN</td>\n",
       "      <td>NaN</td>\n",
       "      <td>NaN</td>\n",
       "      <td>NaN</td>\n",
       "      <td>NaN</td>\n",
       "      <td>NaN</td>\n",
       "      <td>308:16</td>\n",
       "      <td>25:41</td>\n",
       "    </tr>\n",
       "    <tr>\n",
       "      <th>3371</th>\n",
       "      <td>Time of Possession</td>\n",
       "      <td>132</td>\n",
       "      <td>East Carolina (The American)</td>\n",
       "      <td>13</td>\n",
       "      <td>8-5</td>\n",
       "      <td>NaN</td>\n",
       "      <td>NaN</td>\n",
       "      <td>NaN</td>\n",
       "      <td>NaN</td>\n",
       "      <td>NaN</td>\n",
       "      <td>...</td>\n",
       "      <td>NaN</td>\n",
       "      <td>NaN</td>\n",
       "      <td>NaN</td>\n",
       "      <td>NaN</td>\n",
       "      <td>NaN</td>\n",
       "      <td>NaN</td>\n",
       "      <td>NaN</td>\n",
       "      <td>NaN</td>\n",
       "      <td>329:23</td>\n",
       "      <td>25:20</td>\n",
       "    </tr>\n",
       "    <tr>\n",
       "      <th>3372</th>\n",
       "      <td>Time of Possession</td>\n",
       "      <td>133</td>\n",
       "      <td>South Fla. (The American)</td>\n",
       "      <td>13</td>\n",
       "      <td>7-6</td>\n",
       "      <td>NaN</td>\n",
       "      <td>NaN</td>\n",
       "      <td>NaN</td>\n",
       "      <td>NaN</td>\n",
       "      <td>NaN</td>\n",
       "      <td>...</td>\n",
       "      <td>NaN</td>\n",
       "      <td>NaN</td>\n",
       "      <td>NaN</td>\n",
       "      <td>NaN</td>\n",
       "      <td>NaN</td>\n",
       "      <td>NaN</td>\n",
       "      <td>NaN</td>\n",
       "      <td>NaN</td>\n",
       "      <td>326:39</td>\n",
       "      <td>25:08</td>\n",
       "    </tr>\n",
       "    <tr>\n",
       "      <th>3373</th>\n",
       "      <td>Time of Possession</td>\n",
       "      <td>Reclassifying</td>\n",
       "      <td>Reclassifying</td>\n",
       "      <td>Reclassifying</td>\n",
       "      <td>Reclassifying</td>\n",
       "      <td>NaN</td>\n",
       "      <td>NaN</td>\n",
       "      <td>NaN</td>\n",
       "      <td>NaN</td>\n",
       "      <td>NaN</td>\n",
       "      <td>...</td>\n",
       "      <td>NaN</td>\n",
       "      <td>NaN</td>\n",
       "      <td>NaN</td>\n",
       "      <td>NaN</td>\n",
       "      <td>NaN</td>\n",
       "      <td>NaN</td>\n",
       "      <td>NaN</td>\n",
       "      <td>NaN</td>\n",
       "      <td>Reclassifying</td>\n",
       "      <td>Reclassifying</td>\n",
       "    </tr>\n",
       "    <tr>\n",
       "      <th>3374</th>\n",
       "      <td>Time of Possession</td>\n",
       "      <td>-</td>\n",
       "      <td>Kennesaw St. (CUSA)</td>\n",
       "      <td>12</td>\n",
       "      <td>2-10</td>\n",
       "      <td>NaN</td>\n",
       "      <td>NaN</td>\n",
       "      <td>NaN</td>\n",
       "      <td>NaN</td>\n",
       "      <td>NaN</td>\n",
       "      <td>...</td>\n",
       "      <td>NaN</td>\n",
       "      <td>NaN</td>\n",
       "      <td>NaN</td>\n",
       "      <td>NaN</td>\n",
       "      <td>NaN</td>\n",
       "      <td>NaN</td>\n",
       "      <td>NaN</td>\n",
       "      <td>NaN</td>\n",
       "      <td>352:27</td>\n",
       "      <td>29:22</td>\n",
       "    </tr>\n",
       "  </tbody>\n",
       "</table>\n",
       "<p>3375 rows × 92 columns</p>\n",
       "</div>"
      ],
      "text/plain": [
       "                  Metric           Rank                          Team  \\\n",
       "0          Total Offense              1              Miami (FL) (ACC)   \n",
       "1          Total Offense              2                Ole Miss (SEC)   \n",
       "2          Total Offense              3    North Texas (The American)   \n",
       "3          Total Offense              4    New Mexico (Mountain West)   \n",
       "4          Total Offense              5          Texas St. (Sun Belt)   \n",
       "...                  ...            ...                           ...   \n",
       "3370  Time of Possession            131         Mississippi St. (SEC)   \n",
       "3371  Time of Possession            132  East Carolina (The American)   \n",
       "3372  Time of Possession            133     South Fla. (The American)   \n",
       "3373  Time of Possession  Reclassifying                 Reclassifying   \n",
       "3374  Time of Possession              -           Kennesaw St. (CUSA)   \n",
       "\n",
       "                  G            W-L Plays   YDS Yds/Play Off TDs    YPG  ...  \\\n",
       "0                13           10-3   922  6983     7.57      71  537.2  ...   \n",
       "1                13           10-3   934  6845     7.33      60  526.5  ...   \n",
       "2                13            6-7   946  6355     6.72      57  488.8  ...   \n",
       "3                12            5-7   846  5811     6.87      49  484.3  ...   \n",
       "4                13            8-5   957  6200     6.48      58  476.9  ...   \n",
       "...             ...            ...   ...   ...      ...     ...    ...  ...   \n",
       "3370             12           2-10   NaN   NaN      NaN     NaN    NaN  ...   \n",
       "3371             13            8-5   NaN   NaN      NaN     NaN    NaN  ...   \n",
       "3372             13            7-6   NaN   NaN      NaN     NaN    NaN  ...   \n",
       "3373  Reclassifying  Reclassifying   NaN   NaN      NaN     NaN    NaN  ...   \n",
       "3374             12           2-10   NaN   NaN      NaN     NaN    NaN  ...   \n",
       "\n",
       "       FD Opp Rush 1st Opp Pass 1st Opp Pen 1st Opp FD Penalties PenPerGame  \\\n",
       "0     NaN          NaN          NaN         NaN    NaN       NaN        NaN   \n",
       "1     NaN          NaN          NaN         NaN    NaN       NaN        NaN   \n",
       "2     NaN          NaN          NaN         NaN    NaN       NaN        NaN   \n",
       "3     NaN          NaN          NaN         NaN    NaN       NaN        NaN   \n",
       "4     NaN          NaN          NaN         NaN    NaN       NaN        NaN   \n",
       "...   ...          ...          ...         ...    ...       ...        ...   \n",
       "3370  NaN          NaN          NaN         NaN    NaN       NaN        NaN   \n",
       "3371  NaN          NaN          NaN         NaN    NaN       NaN        NaN   \n",
       "3372  NaN          NaN          NaN         NaN    NaN       NaN        NaN   \n",
       "3373  NaN          NaN          NaN         NaN    NaN       NaN        NaN   \n",
       "3374  NaN          NaN          NaN         NaN    NaN       NaN        NaN   \n",
       "\n",
       "     PYards            TOP         AvgTOP  \n",
       "0       NaN            NaN            NaN  \n",
       "1       NaN            NaN            NaN  \n",
       "2       NaN            NaN            NaN  \n",
       "3       NaN            NaN            NaN  \n",
       "4       NaN            NaN            NaN  \n",
       "...     ...            ...            ...  \n",
       "3370    NaN         308:16          25:41  \n",
       "3371    NaN         329:23          25:20  \n",
       "3372    NaN         326:39          25:08  \n",
       "3373    NaN  Reclassifying  Reclassifying  \n",
       "3374    NaN         352:27          29:22  \n",
       "\n",
       "[3375 rows x 92 columns]"
      ]
     },
     "execution_count": 52,
     "metadata": {},
     "output_type": "execute_result"
    }
   ],
   "source": [
    "ncaa = pd.read_csv('ncaa_all_metrics.csv')\n",
    "ncaa"
   ]
  },
  {
   "cell_type": "code",
   "execution_count": 64,
   "id": "d3022d79-0a3b-4505-861f-c534302e4a92",
   "metadata": {},
   "outputs": [
    {
     "data": {
      "text/html": [
       "<div>\n",
       "<style scoped>\n",
       "    .dataframe tbody tr th:only-of-type {\n",
       "        vertical-align: middle;\n",
       "    }\n",
       "\n",
       "    .dataframe tbody tr th {\n",
       "        vertical-align: top;\n",
       "    }\n",
       "\n",
       "    .dataframe thead th {\n",
       "        text-align: right;\n",
       "    }\n",
       "</style>\n",
       "<table border=\"1\" class=\"dataframe\">\n",
       "  <thead>\n",
       "    <tr style=\"text-align: right;\">\n",
       "      <th></th>\n",
       "      <th>Metric</th>\n",
       "      <th>Rank</th>\n",
       "      <th>Team</th>\n",
       "      <th>G</th>\n",
       "      <th>W-L</th>\n",
       "      <th>Rush</th>\n",
       "      <th>Rush Yds</th>\n",
       "      <th>Yds/Rush</th>\n",
       "      <th>Rush TD</th>\n",
       "      <th>YPG</th>\n",
       "    </tr>\n",
       "  </thead>\n",
       "  <tbody>\n",
       "    <tr>\n",
       "      <th>0</th>\n",
       "      <td>Rushing Offense</td>\n",
       "      <td>1</td>\n",
       "      <td>Army West Point (The American)</td>\n",
       "      <td>14</td>\n",
       "      <td>12-2</td>\n",
       "      <td>764</td>\n",
       "      <td>4207</td>\n",
       "      <td>5.51</td>\n",
       "      <td>48</td>\n",
       "      <td>300.5</td>\n",
       "    </tr>\n",
       "    <tr>\n",
       "      <th>1</th>\n",
       "      <td>Rushing Offense</td>\n",
       "      <td>2</td>\n",
       "      <td>New Mexico (Mountain West)</td>\n",
       "      <td>12</td>\n",
       "      <td>5-7</td>\n",
       "      <td>456</td>\n",
       "      <td>3043</td>\n",
       "      <td>6.67</td>\n",
       "      <td>37</td>\n",
       "      <td>253.6</td>\n",
       "    </tr>\n",
       "    <tr>\n",
       "      <th>2</th>\n",
       "      <td>Rushing Offense</td>\n",
       "      <td>3</td>\n",
       "      <td>Jacksonville St. (CUSA)</td>\n",
       "      <td>14</td>\n",
       "      <td>9-5</td>\n",
       "      <td>646</td>\n",
       "      <td>3517</td>\n",
       "      <td>5.44</td>\n",
       "      <td>51</td>\n",
       "      <td>251.2</td>\n",
       "    </tr>\n",
       "    <tr>\n",
       "      <th>3</th>\n",
       "      <td>Rushing Offense</td>\n",
       "      <td>4</td>\n",
       "      <td>Liberty (CUSA)</td>\n",
       "      <td>12</td>\n",
       "      <td>8-4</td>\n",
       "      <td>542</td>\n",
       "      <td>3008</td>\n",
       "      <td>5.55</td>\n",
       "      <td>28</td>\n",
       "      <td>250.7</td>\n",
       "    </tr>\n",
       "    <tr>\n",
       "      <th>4</th>\n",
       "      <td>Rushing Offense</td>\n",
       "      <td>5</td>\n",
       "      <td>UCF (Big 12)</td>\n",
       "      <td>12</td>\n",
       "      <td>4-8</td>\n",
       "      <td>516</td>\n",
       "      <td>2977</td>\n",
       "      <td>5.77</td>\n",
       "      <td>33</td>\n",
       "      <td>248.1</td>\n",
       "    </tr>\n",
       "    <tr>\n",
       "      <th>...</th>\n",
       "      <td>...</td>\n",
       "      <td>...</td>\n",
       "      <td>...</td>\n",
       "      <td>...</td>\n",
       "      <td>...</td>\n",
       "      <td>...</td>\n",
       "      <td>...</td>\n",
       "      <td>...</td>\n",
       "      <td>...</td>\n",
       "      <td>...</td>\n",
       "    </tr>\n",
       "    <tr>\n",
       "      <th>130</th>\n",
       "      <td>Rushing Offense</td>\n",
       "      <td>131</td>\n",
       "      <td>UCLA (Big Ten)</td>\n",
       "      <td>12</td>\n",
       "      <td>5-7</td>\n",
       "      <td>338</td>\n",
       "      <td>1039</td>\n",
       "      <td>3.07</td>\n",
       "      <td>4</td>\n",
       "      <td>86.6</td>\n",
       "    </tr>\n",
       "    <tr>\n",
       "      <th>131</th>\n",
       "      <td>Rushing Offense</td>\n",
       "      <td>132</td>\n",
       "      <td>Kent St. (MAC)</td>\n",
       "      <td>12</td>\n",
       "      <td>0-12</td>\n",
       "      <td>391</td>\n",
       "      <td>923</td>\n",
       "      <td>2.36</td>\n",
       "      <td>3</td>\n",
       "      <td>76.9</td>\n",
       "    </tr>\n",
       "    <tr>\n",
       "      <th>132</th>\n",
       "      <td>Rushing Offense</td>\n",
       "      <td>133</td>\n",
       "      <td>Colorado (Big 12)</td>\n",
       "      <td>13</td>\n",
       "      <td>9-4</td>\n",
       "      <td>341</td>\n",
       "      <td>847</td>\n",
       "      <td>2.48</td>\n",
       "      <td>15</td>\n",
       "      <td>65.2</td>\n",
       "    </tr>\n",
       "    <tr>\n",
       "      <th>133</th>\n",
       "      <td>Rushing Offense</td>\n",
       "      <td>Reclassifying</td>\n",
       "      <td>Reclassifying</td>\n",
       "      <td>Reclassifying</td>\n",
       "      <td>Reclassifying</td>\n",
       "      <td>Reclassifying</td>\n",
       "      <td>Reclassifying</td>\n",
       "      <td>Reclassifying</td>\n",
       "      <td>Reclassifying</td>\n",
       "      <td>Reclassifying</td>\n",
       "    </tr>\n",
       "    <tr>\n",
       "      <th>134</th>\n",
       "      <td>Rushing Offense</td>\n",
       "      <td>-</td>\n",
       "      <td>Kennesaw St. (CUSA)</td>\n",
       "      <td>12</td>\n",
       "      <td>2-10</td>\n",
       "      <td>452</td>\n",
       "      <td>1375</td>\n",
       "      <td>3.04</td>\n",
       "      <td>13</td>\n",
       "      <td>114.6</td>\n",
       "    </tr>\n",
       "  </tbody>\n",
       "</table>\n",
       "<p>135 rows × 10 columns</p>\n",
       "</div>"
      ],
      "text/plain": [
       "              Metric           Rank                            Team  \\\n",
       "0    Rushing Offense              1  Army West Point (The American)   \n",
       "1    Rushing Offense              2      New Mexico (Mountain West)   \n",
       "2    Rushing Offense              3         Jacksonville St. (CUSA)   \n",
       "3    Rushing Offense              4                  Liberty (CUSA)   \n",
       "4    Rushing Offense              5                    UCF (Big 12)   \n",
       "..               ...            ...                             ...   \n",
       "130  Rushing Offense            131                  UCLA (Big Ten)   \n",
       "131  Rushing Offense            132                  Kent St. (MAC)   \n",
       "132  Rushing Offense            133               Colorado (Big 12)   \n",
       "133  Rushing Offense  Reclassifying                   Reclassifying   \n",
       "134  Rushing Offense              -             Kennesaw St. (CUSA)   \n",
       "\n",
       "                 G            W-L           Rush       Rush Yds  \\\n",
       "0               14           12-2            764           4207   \n",
       "1               12            5-7            456           3043   \n",
       "2               14            9-5            646           3517   \n",
       "3               12            8-4            542           3008   \n",
       "4               12            4-8            516           2977   \n",
       "..             ...            ...            ...            ...   \n",
       "130             12            5-7            338           1039   \n",
       "131             12           0-12            391            923   \n",
       "132             13            9-4            341            847   \n",
       "133  Reclassifying  Reclassifying  Reclassifying  Reclassifying   \n",
       "134             12           2-10            452           1375   \n",
       "\n",
       "          Yds/Rush        Rush TD            YPG  \n",
       "0             5.51             48          300.5  \n",
       "1             6.67             37          253.6  \n",
       "2             5.44             51          251.2  \n",
       "3             5.55             28          250.7  \n",
       "4             5.77             33          248.1  \n",
       "..             ...            ...            ...  \n",
       "130           3.07              4           86.6  \n",
       "131           2.36              3           76.9  \n",
       "132           2.48             15           65.2  \n",
       "133  Reclassifying  Reclassifying  Reclassifying  \n",
       "134           3.04             13          114.6  \n",
       "\n",
       "[135 rows x 10 columns]"
      ]
     },
     "execution_count": 64,
     "metadata": {},
     "output_type": "execute_result"
    }
   ],
   "source": [
    "all_dfs[1]"
   ]
  }
 ],
 "metadata": {
  "kernelspec": {
   "display_name": "Python 3 (ipykernel)",
   "language": "python",
   "name": "python3"
  },
  "language_info": {
   "codemirror_mode": {
    "name": "ipython",
    "version": 3
   },
   "file_extension": ".py",
   "mimetype": "text/x-python",
   "name": "python",
   "nbconvert_exporter": "python",
   "pygments_lexer": "ipython3",
   "version": "3.12.4"
  }
 },
 "nbformat": 4,
 "nbformat_minor": 5
}
